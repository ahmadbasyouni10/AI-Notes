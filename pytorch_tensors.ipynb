{
  "nbformat": 4,
  "nbformat_minor": 0,
  "metadata": {
    "colab": {
      "provenance": [],
      "gpuType": "T4"
    },
    "kernelspec": {
      "name": "python3",
      "display_name": "Python 3"
    },
    "language_info": {
      "name": "python"
    },
    "accelerator": "GPU"
  },
  "cells": [
    {
      "cell_type": "code",
      "execution_count": 2,
      "metadata": {
        "colab": {
          "base_uri": "https://localhost:8080/"
        },
        "id": "FGZs5qF1y1vc",
        "outputId": "dc0658b3-2391-4a2f-cb1f-609690f92542"
      },
      "outputs": [
        {
          "output_type": "execute_result",
          "data": {
            "text/plain": [
              "tensor(7)"
            ]
          },
          "metadata": {},
          "execution_count": 2
        }
      ],
      "source": [
        "import torch\n",
        "import pandas as pd\n",
        "import numpy as np\n",
        "import matplotlib.pyplot as plt\n",
        "scalar = torch.tensor(7)\n",
        "scalar"
      ]
    },
    {
      "cell_type": "code",
      "source": [
        "scalar.ndim # single number no dimensions"
      ],
      "metadata": {
        "colab": {
          "base_uri": "https://localhost:8080/"
        },
        "id": "QTLAZLR_0LXL",
        "outputId": "25435a47-a4c8-4386-90f9-230ee176acaf"
      },
      "execution_count": 3,
      "outputs": [
        {
          "output_type": "execute_result",
          "data": {
            "text/plain": [
              "0"
            ]
          },
          "metadata": {},
          "execution_count": 3
        }
      ]
    },
    {
      "cell_type": "code",
      "source": [
        "scalar.item() # retrieves int from tensor"
      ],
      "metadata": {
        "colab": {
          "base_uri": "https://localhost:8080/"
        },
        "id": "ry8IBlhz0Mzt",
        "outputId": "ddba86b8-8104-4e45-92c4-204054c8de40"
      },
      "execution_count": 4,
      "outputs": [
        {
          "output_type": "execute_result",
          "data": {
            "text/plain": [
              "7"
            ]
          },
          "metadata": {},
          "execution_count": 4
        }
      ]
    },
    {
      "cell_type": "code",
      "source": [
        "# Vector\n",
        "vector = torch.tensor([7,7])\n",
        "vector.ndim"
      ],
      "metadata": {
        "colab": {
          "base_uri": "https://localhost:8080/"
        },
        "id": "5v9WSkNg0SNi",
        "outputId": "409a0b2e-7281-4d59-ceb6-70685d929d60"
      },
      "execution_count": 5,
      "outputs": [
        {
          "output_type": "execute_result",
          "data": {
            "text/plain": [
              "1"
            ]
          },
          "metadata": {},
          "execution_count": 5
        }
      ]
    },
    {
      "cell_type": "code",
      "source": [
        "vector.shape"
      ],
      "metadata": {
        "colab": {
          "base_uri": "https://localhost:8080/"
        },
        "id": "I6AXEMpl0h1s",
        "outputId": "5c3943ef-7efb-462a-c1a8-9b288a989c8a"
      },
      "execution_count": 6,
      "outputs": [
        {
          "output_type": "execute_result",
          "data": {
            "text/plain": [
              "torch.Size([2])"
            ]
          },
          "metadata": {},
          "execution_count": 6
        }
      ]
    },
    {
      "cell_type": "code",
      "source": [
        "# MATRIX\n",
        "MATRIX = torch.tensor([[7,8],\n",
        "                       [9,10]])\n",
        "MATRIX"
      ],
      "metadata": {
        "colab": {
          "base_uri": "https://localhost:8080/"
        },
        "id": "EDsN2oXO0lR3",
        "outputId": "2e875a64-4c78-4bb8-c3f1-dbb8a4ebf7ed"
      },
      "execution_count": 7,
      "outputs": [
        {
          "output_type": "execute_result",
          "data": {
            "text/plain": [
              "tensor([[ 7,  8],\n",
              "        [ 9, 10]])"
            ]
          },
          "metadata": {},
          "execution_count": 7
        }
      ]
    },
    {
      "cell_type": "code",
      "source": [
        "MATRIX.ndim # 2 dimensions"
      ],
      "metadata": {
        "colab": {
          "base_uri": "https://localhost:8080/"
        },
        "id": "QfqDx0h20uwg",
        "outputId": "f7047f6f-40cf-429e-e154-f6ce7574dd63"
      },
      "execution_count": 8,
      "outputs": [
        {
          "output_type": "execute_result",
          "data": {
            "text/plain": [
              "2"
            ]
          },
          "metadata": {},
          "execution_count": 8
        }
      ]
    },
    {
      "cell_type": "code",
      "source": [
        "MATRIX.shape # number of items in each dimension"
      ],
      "metadata": {
        "colab": {
          "base_uri": "https://localhost:8080/"
        },
        "id": "feY6zw9e0rfj",
        "outputId": "0f10980b-a441-46fe-f79f-03758837c8dc"
      },
      "execution_count": 9,
      "outputs": [
        {
          "output_type": "execute_result",
          "data": {
            "text/plain": [
              "torch.Size([2, 2])"
            ]
          },
          "metadata": {},
          "execution_count": 9
        }
      ]
    },
    {
      "cell_type": "code",
      "source": [
        "MATRIX[0] # first dimension"
      ],
      "metadata": {
        "colab": {
          "base_uri": "https://localhost:8080/"
        },
        "id": "Kv9l3jXv00qJ",
        "outputId": "0b151f26-dc52-4c04-f035-40ada6da4dae"
      },
      "execution_count": 10,
      "outputs": [
        {
          "output_type": "execute_result",
          "data": {
            "text/plain": [
              "tensor([7, 8])"
            ]
          },
          "metadata": {},
          "execution_count": 10
        }
      ]
    },
    {
      "cell_type": "code",
      "source": [
        "# Tensor\n",
        "TENSOR = torch.tensor([\n",
        "    [\n",
        "        [1,2,3],\n",
        "        [4,5,6],\n",
        "        [7,8,9]\n",
        "    ]\n",
        "    ])\n",
        "TENSOR"
      ],
      "metadata": {
        "colab": {
          "base_uri": "https://localhost:8080/"
        },
        "id": "G6Dq0pP509jK",
        "outputId": "896fda14-28c9-4957-c8b1-83037836f5f6"
      },
      "execution_count": 11,
      "outputs": [
        {
          "output_type": "execute_result",
          "data": {
            "text/plain": [
              "tensor([[[1, 2, 3],\n",
              "         [4, 5, 6],\n",
              "         [7, 8, 9]]])"
            ]
          },
          "metadata": {},
          "execution_count": 11
        }
      ]
    },
    {
      "cell_type": "code",
      "source": [
        "TENSOR.ndim # 0 dim -> contains 1 item which is parent brackets\n",
        "# 1 dim -> contains 3 items which is 3 brackets with 2 commas seperating\n",
        "# 2 dim -> contains 3 items which is 3 items in each bracket 2 commas seperating"
      ],
      "metadata": {
        "colab": {
          "base_uri": "https://localhost:8080/"
        },
        "id": "Q3p4XWKR1wZS",
        "outputId": "ccf550c8-21fd-494a-fec8-c1f678268266"
      },
      "execution_count": 12,
      "outputs": [
        {
          "output_type": "execute_result",
          "data": {
            "text/plain": [
              "3"
            ]
          },
          "metadata": {},
          "execution_count": 12
        }
      ]
    },
    {
      "cell_type": "code",
      "source": [
        "TENSOR.shape"
      ],
      "metadata": {
        "colab": {
          "base_uri": "https://localhost:8080/"
        },
        "id": "AUX7xLxp2oIo",
        "outputId": "362a0f72-a394-4a9a-f8a8-6606489b7006"
      },
      "execution_count": 13,
      "outputs": [
        {
          "output_type": "execute_result",
          "data": {
            "text/plain": [
              "torch.Size([1, 3, 3])"
            ]
          },
          "metadata": {},
          "execution_count": 13
        }
      ]
    },
    {
      "cell_type": "code",
      "source": [
        "TENSOR5dim = torch.tensor(\n",
        "    [\n",
        "    [\n",
        "    [\n",
        "    [\n",
        "    [1,2,3,4,5],\n",
        "    [4,5,6,7,8],\n",
        "    [7,8,9,10,11]\n",
        "    ]\n",
        "                             ]\n",
        "                            ]\n",
        "                           ]\n",
        "                          )\n",
        "TENSOR5dim.ndim"
      ],
      "metadata": {
        "colab": {
          "base_uri": "https://localhost:8080/"
        },
        "id": "fHb9jLww2M0t",
        "outputId": "36f1c7df-650f-41cb-d9a6-689b44dc6574"
      },
      "execution_count": 14,
      "outputs": [
        {
          "output_type": "execute_result",
          "data": {
            "text/plain": [
              "5"
            ]
          },
          "metadata": {},
          "execution_count": 14
        }
      ]
    },
    {
      "cell_type": "code",
      "source": [
        "TENSOR5dim.shape"
      ],
      "metadata": {
        "colab": {
          "base_uri": "https://localhost:8080/"
        },
        "id": "ZIqieRF820-M",
        "outputId": "08d4b277-706c-41a6-845e-2d25737dc203"
      },
      "execution_count": 15,
      "outputs": [
        {
          "output_type": "execute_result",
          "data": {
            "text/plain": [
              "torch.Size([1, 1, 1, 3, 5])"
            ]
          },
          "metadata": {},
          "execution_count": 15
        }
      ]
    },
    {
      "cell_type": "code",
      "source": [
        "# Vector 1 dimensional tensor\n",
        "# Scalar 0 dimensional tensor\n",
        "# MATRIX 2 dimensional tensor\n",
        "# Tensor any dimensions, so all Vector, scalar, and Matrix are tensors"
      ],
      "metadata": {
        "id": "D_GGROAt257s"
      },
      "execution_count": 16,
      "outputs": []
    },
    {
      "cell_type": "code",
      "source": [
        "# Random Tensors\n",
        "random_tensor = torch.rand(3, 224,224)\n",
        "random_tensor"
      ],
      "metadata": {
        "colab": {
          "base_uri": "https://localhost:8080/"
        },
        "id": "S64cT8Ah3Epg",
        "outputId": "cf3054e1-3fc9-4a87-8093-8c49770bbe2c"
      },
      "execution_count": 17,
      "outputs": [
        {
          "output_type": "execute_result",
          "data": {
            "text/plain": [
              "tensor([[[0.9362, 0.6197, 0.5071,  ..., 0.9578, 0.4127, 0.1459],\n",
              "         [0.3371, 0.1692, 0.9418,  ..., 0.8963, 0.0241, 0.5004],\n",
              "         [0.0513, 0.0285, 0.3721,  ..., 0.3316, 0.8323, 0.3153],\n",
              "         ...,\n",
              "         [0.7667, 0.0436, 0.1706,  ..., 0.9426, 0.8984, 0.9490],\n",
              "         [0.5999, 0.5636, 0.9315,  ..., 0.3081, 0.2848, 0.6812],\n",
              "         [0.1589, 0.1780, 0.3482,  ..., 0.3490, 0.8405, 0.2062]],\n",
              "\n",
              "        [[0.5469, 0.4957, 0.8363,  ..., 0.3085, 0.2591, 0.6163],\n",
              "         [0.9299, 0.4114, 0.1537,  ..., 0.6878, 0.1782, 0.0995],\n",
              "         [0.2264, 0.1196, 0.4903,  ..., 0.0675, 0.4756, 0.1507],\n",
              "         ...,\n",
              "         [0.8375, 0.2136, 0.7939,  ..., 0.3920, 0.2414, 0.6301],\n",
              "         [0.4508, 0.2525, 0.4716,  ..., 0.6454, 0.5824, 0.9183],\n",
              "         [0.3823, 0.1530, 0.6084,  ..., 0.4354, 0.8323, 0.7847]],\n",
              "\n",
              "        [[0.0357, 0.7373, 0.5975,  ..., 0.0014, 0.0117, 0.9328],\n",
              "         [0.6615, 0.6823, 0.3017,  ..., 0.9086, 0.6851, 0.8323],\n",
              "         [0.5657, 0.3023, 0.0748,  ..., 0.4800, 0.8072, 0.2351],\n",
              "         ...,\n",
              "         [0.1903, 0.2189, 0.8568,  ..., 0.7513, 1.0000, 0.6633],\n",
              "         [0.9389, 0.8864, 0.0501,  ..., 0.6591, 0.6058, 0.4876],\n",
              "         [0.8683, 0.8530, 0.5827,  ..., 0.3858, 0.3596, 0.4453]]])"
            ]
          },
          "metadata": {},
          "execution_count": 17
        }
      ]
    },
    {
      "cell_type": "code",
      "source": [
        "one_to_ten = torch.arange(1,12, 2)\n",
        "one_to_ten"
      ],
      "metadata": {
        "colab": {
          "base_uri": "https://localhost:8080/"
        },
        "id": "KwyblMQd-hz8",
        "outputId": "818f66a3-504f-479f-f857-033a33d04ba9"
      },
      "execution_count": 18,
      "outputs": [
        {
          "output_type": "execute_result",
          "data": {
            "text/plain": [
              "tensor([ 1,  3,  5,  7,  9, 11])"
            ]
          },
          "metadata": {},
          "execution_count": 18
        }
      ]
    },
    {
      "cell_type": "code",
      "source": [
        "copyzeros = torch.zeros_like(input = one_to_ten)\n",
        "copyzeros"
      ],
      "metadata": {
        "colab": {
          "base_uri": "https://localhost:8080/"
        },
        "id": "Lfa2zrW1-3GM",
        "outputId": "5143f5d7-95ea-44c2-e596-4cd2be6fb337"
      },
      "execution_count": 19,
      "outputs": [
        {
          "output_type": "execute_result",
          "data": {
            "text/plain": [
              "tensor([0, 0, 0, 0, 0, 0])"
            ]
          },
          "metadata": {},
          "execution_count": 19
        }
      ]
    },
    {
      "cell_type": "code",
      "source": [
        "# Float 32 tensor\n",
        "float_32_tensor = torch.tensor([3.0, 6.0, 9.0],\n",
        "                               dtype=None)\n",
        "float_32_tensor"
      ],
      "metadata": {
        "colab": {
          "base_uri": "https://localhost:8080/"
        },
        "id": "BK89akYx-7hx",
        "outputId": "44cd95e3-ff75-41ea-c07b-b7e688c48483"
      },
      "execution_count": 20,
      "outputs": [
        {
          "output_type": "execute_result",
          "data": {
            "text/plain": [
              "tensor([3., 6., 9.])"
            ]
          },
          "metadata": {},
          "execution_count": 20
        }
      ]
    },
    {
      "cell_type": "code",
      "source": [
        "float_32_tensor.dtype"
      ],
      "metadata": {
        "colab": {
          "base_uri": "https://localhost:8080/"
        },
        "id": "zkV0qy8c_KvN",
        "outputId": "8ccea1aa-86fb-422c-f2cd-bc71de8cad7c"
      },
      "execution_count": 21,
      "outputs": [
        {
          "output_type": "execute_result",
          "data": {
            "text/plain": [
              "torch.float32"
            ]
          },
          "metadata": {},
          "execution_count": 21
        }
      ]
    },
    {
      "cell_type": "code",
      "source": [
        "float_16_tensor = torch.tensor([3.0, 6.0, 9.0],\n",
        "                               dtype=torch.float16, # what data type is the tensor\n",
        "                               device=None, # What device tensor is on \"cuda\" on gpu\n",
        "                               requires_grad=False)\n",
        "float_16_tensor"
      ],
      "metadata": {
        "colab": {
          "base_uri": "https://localhost:8080/"
        },
        "id": "lyIdOIt3_O3r",
        "outputId": "ad545773-0d91-40c3-a0be-5f8516a05bae"
      },
      "execution_count": 22,
      "outputs": [
        {
          "output_type": "execute_result",
          "data": {
            "text/plain": [
              "tensor([3., 6., 9.], dtype=torch.float16)"
            ]
          },
          "metadata": {},
          "execution_count": 22
        }
      ]
    },
    {
      "cell_type": "code",
      "source": [
        "float_16_tensor.dtype\n",
        "float32 = float_16_tensor.type(torch.float32)\n",
        "float32.dtype\n",
        "float16 = float32.type(torch.float16)\n",
        "float16.dtype"
      ],
      "metadata": {
        "colab": {
          "base_uri": "https://localhost:8080/"
        },
        "id": "lRdDpNr__W1V",
        "outputId": "09fa40df-425a-4682-f920-1d1b78bdaeff"
      },
      "execution_count": 23,
      "outputs": [
        {
          "output_type": "execute_result",
          "data": {
            "text/plain": [
              "torch.float16"
            ]
          },
          "metadata": {},
          "execution_count": 23
        }
      ]
    },
    {
      "cell_type": "code",
      "source": [
        "float16 * float32 # works although different data types but some operations will give error\n",
        "# when not in proper type"
      ],
      "metadata": {
        "colab": {
          "base_uri": "https://localhost:8080/"
        },
        "id": "zBVfclRFyCGr",
        "outputId": "4b3c33b2-184b-4f10-ab8c-3042ec5f111d"
      },
      "execution_count": 24,
      "outputs": [
        {
          "output_type": "execute_result",
          "data": {
            "text/plain": [
              "tensor([ 9., 36., 81.])"
            ]
          },
          "metadata": {},
          "execution_count": 24
        }
      ]
    },
    {
      "cell_type": "code",
      "source": [
        "int_32_tensor = torch.tensor([3, 6, 9], dtype=torch.long)\n",
        "int_32_tensor"
      ],
      "metadata": {
        "colab": {
          "base_uri": "https://localhost:8080/"
        },
        "id": "4G9qX4kOyeTh",
        "outputId": "634bb5ee-a50a-46bb-ca35-1dffdfc8cc29"
      },
      "execution_count": 25,
      "outputs": [
        {
          "output_type": "execute_result",
          "data": {
            "text/plain": [
              "tensor([3, 6, 9])"
            ]
          },
          "metadata": {},
          "execution_count": 25
        }
      ]
    },
    {
      "cell_type": "code",
      "source": [
        "float_32_tensor * int_32_tensor"
      ],
      "metadata": {
        "colab": {
          "base_uri": "https://localhost:8080/"
        },
        "id": "Rc8xBodPynB1",
        "outputId": "c85d717d-c222-4f36-fb31-197146659ef7"
      },
      "execution_count": 26,
      "outputs": [
        {
          "output_type": "execute_result",
          "data": {
            "text/plain": [
              "tensor([ 9., 36., 81.])"
            ]
          },
          "metadata": {},
          "execution_count": 26
        }
      ]
    },
    {
      "cell_type": "code",
      "source": [
        "some_tensor = torch.rand(3,4)\n",
        "some_tensor"
      ],
      "metadata": {
        "colab": {
          "base_uri": "https://localhost:8080/"
        },
        "id": "DNxFoQ6Jzr2V",
        "outputId": "d923a187-3c65-4dd3-db0c-dffa1512f50d"
      },
      "execution_count": 27,
      "outputs": [
        {
          "output_type": "execute_result",
          "data": {
            "text/plain": [
              "tensor([[0.5892, 0.5543, 0.6872, 0.9906],\n",
              "        [0.1131, 0.1998, 0.7598, 0.0922],\n",
              "        [0.0726, 0.3189, 0.7910, 0.2190]])"
            ]
          },
          "metadata": {},
          "execution_count": 27
        }
      ]
    },
    {
      "cell_type": "code",
      "source": [
        "print(some_tensor)\n",
        "print(f\"Datatype of tensor: {some_tensor.dtype}\")\n",
        "print(f\"Shape of tensor: {some_tensor.size()}\")\n",
        "print(f\"Device tensor is on: {some_tensor.device}\")"
      ],
      "metadata": {
        "colab": {
          "base_uri": "https://localhost:8080/"
        },
        "id": "rctXrxIN0FfR",
        "outputId": "8c5d2904-3ec6-4a0d-cf9f-8472182aa563"
      },
      "execution_count": 28,
      "outputs": [
        {
          "output_type": "stream",
          "name": "stdout",
          "text": [
            "tensor([[0.5892, 0.5543, 0.6872, 0.9906],\n",
            "        [0.1131, 0.1998, 0.7598, 0.0922],\n",
            "        [0.0726, 0.3189, 0.7910, 0.2190]])\n",
            "Datatype of tensor: torch.float32\n",
            "Shape of tensor: torch.Size([3, 4])\n",
            "Device tensor is on: cpu\n"
          ]
        }
      ]
    },
    {
      "cell_type": "code",
      "source": [
        "my_tensor = torch.rand(6,2, dtype=torch.float64, device=\"cpu\")\n",
        "print(my_tensor.shape)\n",
        "print(my_tensor.dtype)\n",
        "my_tensor.device"
      ],
      "metadata": {
        "colab": {
          "base_uri": "https://localhost:8080/"
        },
        "id": "wUR5U8JM0hwa",
        "outputId": "8cab647f-df85-4aba-f58f-c5a68326774b"
      },
      "execution_count": 29,
      "outputs": [
        {
          "output_type": "stream",
          "name": "stdout",
          "text": [
            "torch.Size([6, 2])\n",
            "torch.float64\n"
          ]
        },
        {
          "output_type": "execute_result",
          "data": {
            "text/plain": [
              "device(type='cpu')"
            ]
          },
          "metadata": {},
          "execution_count": 29
        }
      ]
    },
    {
      "cell_type": "code",
      "source": [
        "my_tensor.to(\"cpu\")\n",
        "my_tensor.device\n",
        "my_tensor = my_tensor.to(torch.float32)\n",
        "my_tensor.reshape(3,4)"
      ],
      "metadata": {
        "colab": {
          "base_uri": "https://localhost:8080/"
        },
        "id": "PqnKFu212b1A",
        "outputId": "b0b0fcff-93aa-4945-d84b-38433791a2c9"
      },
      "execution_count": 30,
      "outputs": [
        {
          "output_type": "execute_result",
          "data": {
            "text/plain": [
              "tensor([[0.9771, 0.4729, 0.6241, 0.9871],\n",
              "        [0.2700, 0.9124, 0.2388, 0.6623],\n",
              "        [0.8202, 0.4214, 0.8924, 0.0869]])"
            ]
          },
          "metadata": {},
          "execution_count": 30
        }
      ]
    },
    {
      "cell_type": "code",
      "source": [
        "my_tensor.dtype"
      ],
      "metadata": {
        "colab": {
          "base_uri": "https://localhost:8080/"
        },
        "id": "IyJ_mo1w3S6W",
        "outputId": "a6968a5a-dabe-4e6a-9103-cbbf213276fb"
      },
      "execution_count": 31,
      "outputs": [
        {
          "output_type": "execute_result",
          "data": {
            "text/plain": [
              "torch.float32"
            ]
          },
          "metadata": {},
          "execution_count": 31
        }
      ]
    },
    {
      "cell_type": "code",
      "source": [
        "my_tensor.device"
      ],
      "metadata": {
        "colab": {
          "base_uri": "https://localhost:8080/"
        },
        "id": "9n1Qas9D3ZCV",
        "outputId": "79dab93f-78ec-461f-c5fc-0058f03d60ae"
      },
      "execution_count": 32,
      "outputs": [
        {
          "output_type": "execute_result",
          "data": {
            "text/plain": [
              "device(type='cpu')"
            ]
          },
          "metadata": {},
          "execution_count": 32
        }
      ]
    },
    {
      "cell_type": "code",
      "source": [
        "my_tensor.to(\"cpu\")\n",
        "my_tensor.device"
      ],
      "metadata": {
        "colab": {
          "base_uri": "https://localhost:8080/"
        },
        "id": "wgzcUWzc3bKN",
        "outputId": "f6ca6702-af6f-4649-f18e-75668172ecb8"
      },
      "execution_count": 33,
      "outputs": [
        {
          "output_type": "execute_result",
          "data": {
            "text/plain": [
              "device(type='cpu')"
            ]
          },
          "metadata": {},
          "execution_count": 33
        }
      ]
    },
    {
      "cell_type": "code",
      "source": [
        "my_tensor.device"
      ],
      "metadata": {
        "colab": {
          "base_uri": "https://localhost:8080/"
        },
        "id": "ZYQ4I9a04IZG",
        "outputId": "8a2ba8f5-a395-493b-e556-845512bcb8f2"
      },
      "execution_count": 34,
      "outputs": [
        {
          "output_type": "execute_result",
          "data": {
            "text/plain": [
              "device(type='cpu')"
            ]
          },
          "metadata": {},
          "execution_count": 34
        }
      ]
    },
    {
      "cell_type": "code",
      "source": [
        "# Create a tensor\n",
        "tensor = torch.tensor([1,2,3])\n",
        "tensor * 10"
      ],
      "metadata": {
        "colab": {
          "base_uri": "https://localhost:8080/"
        },
        "id": "bY5bok5T4dwC",
        "outputId": "e7be30be-d67e-447a-9398-1beeafb3d9ab"
      },
      "execution_count": 35,
      "outputs": [
        {
          "output_type": "execute_result",
          "data": {
            "text/plain": [
              "tensor([10, 20, 30])"
            ]
          },
          "metadata": {},
          "execution_count": 35
        }
      ]
    },
    {
      "cell_type": "code",
      "source": [
        "tensor"
      ],
      "metadata": {
        "colab": {
          "base_uri": "https://localhost:8080/"
        },
        "id": "xpl8clSe4wDL",
        "outputId": "90f5f368-9414-42be-a23a-eb96b0dff9c8"
      },
      "execution_count": 36,
      "outputs": [
        {
          "output_type": "execute_result",
          "data": {
            "text/plain": [
              "tensor([1, 2, 3])"
            ]
          },
          "metadata": {},
          "execution_count": 36
        }
      ]
    },
    {
      "cell_type": "code",
      "source": [
        "tensor = tensor * 10\n",
        "tensor"
      ],
      "metadata": {
        "id": "JZ9A6hFz5IXP",
        "colab": {
          "base_uri": "https://localhost:8080/"
        },
        "outputId": "fb62adc6-da90-40dc-874d-1c942b3b909d"
      },
      "execution_count": 37,
      "outputs": [
        {
          "output_type": "execute_result",
          "data": {
            "text/plain": [
              "tensor([10, 20, 30])"
            ]
          },
          "metadata": {},
          "execution_count": 37
        }
      ]
    },
    {
      "cell_type": "code",
      "source": [
        "# Matrix multiplication (dot product)\n",
        "tensor1 = torch.tensor([[1,2],[4,5]])\n",
        "tensor2 = torch.tensor([[2,2],[2,2]])"
      ],
      "metadata": {
        "id": "U0g_NaEn5sMt"
      },
      "execution_count": 38,
      "outputs": []
    },
    {
      "cell_type": "code",
      "source": [
        "print(\"matrix mult dot product\")\n",
        "print(tensor1, \"*\", tensor2)\n",
        "print(f\"Equals: {torch.matmul(tensor1, tensor2)}\")"
      ],
      "metadata": {
        "colab": {
          "base_uri": "https://localhost:8080/"
        },
        "id": "Dmv7dnLc8N2f",
        "outputId": "22d2687a-a5d5-43b0-92e0-cc822e1ad8a6"
      },
      "execution_count": 39,
      "outputs": [
        {
          "output_type": "stream",
          "name": "stdout",
          "text": [
            "matrix mult dot product\n",
            "tensor([[1, 2],\n",
            "        [4, 5]]) * tensor([[2, 2],\n",
            "        [2, 2]])\n",
            "Equals: tensor([[ 6,  6],\n",
            "        [18, 18]])\n"
          ]
        }
      ]
    },
    {
      "cell_type": "code",
      "source": [
        "# manual matrix mult without torch.matmul\n",
        "%%time\n",
        "val = 0\n",
        "for i in range(len(tensor1)):\n",
        "  val += tensor1[i] * tensor2[i]\n",
        "print(val)"
      ],
      "metadata": {
        "colab": {
          "base_uri": "https://localhost:8080/"
        },
        "id": "pIFS1JGC9SoO",
        "outputId": "8425c90f-015d-475a-c704-dac6d7934cee"
      },
      "execution_count": 40,
      "outputs": [
        {
          "output_type": "stream",
          "name": "stdout",
          "text": [
            "tensor([10, 14])\n",
            "CPU times: user 1.24 ms, sys: 1.03 ms, total: 2.27 ms\n",
            "Wall time: 5.07 ms\n"
          ]
        }
      ]
    },
    {
      "cell_type": "code",
      "source": [
        "%%time\n",
        "torch.matmul(tensor1, tensor2)"
      ],
      "metadata": {
        "id": "iQDyJbhI-ZHF",
        "outputId": "cb5bff31-099f-4aa5-d6e6-809d22344036",
        "colab": {
          "base_uri": "https://localhost:8080/"
        }
      },
      "execution_count": 41,
      "outputs": [
        {
          "output_type": "stream",
          "name": "stdout",
          "text": [
            "CPU times: user 32 µs, sys: 4 µs, total: 36 µs\n",
            "Wall time: 39.8 µs\n"
          ]
        },
        {
          "output_type": "execute_result",
          "data": {
            "text/plain": [
              "tensor([[ 6,  6],\n",
              "        [18, 18]])"
            ]
          },
          "metadata": {},
          "execution_count": 41
        }
      ]
    },
    {
      "cell_type": "code",
      "source": [
        "# Rules for matrix mult\n",
        "# inner dimensions must be equal\n",
        "# result is the outer dimensions\n",
        "t1  = torch.rand(3,2)\n",
        "t2 = torch.rand(2,3)\n",
        "print(t1)\n",
        "print(t2)\n",
        "torch.matmul(t1, t2)"
      ],
      "metadata": {
        "colab": {
          "base_uri": "https://localhost:8080/"
        },
        "id": "kBLOzZqUnuGX",
        "outputId": "de79ff44-c2b2-4360-d9de-accd76dbd2f4"
      },
      "execution_count": 42,
      "outputs": [
        {
          "output_type": "stream",
          "name": "stdout",
          "text": [
            "tensor([[0.6974, 0.0462],\n",
            "        [0.7908, 0.3392],\n",
            "        [0.4646, 0.4252]])\n",
            "tensor([[0.8465, 0.3536, 0.5856],\n",
            "        [0.5386, 0.2453, 0.3058]])\n"
          ]
        },
        {
          "output_type": "execute_result",
          "data": {
            "text/plain": [
              "tensor([[0.6153, 0.2579, 0.4226],\n",
              "        [0.8521, 0.3628, 0.5668],\n",
              "        [0.6223, 0.2686, 0.4021]])"
            ]
          },
          "metadata": {},
          "execution_count": 42
        }
      ]
    },
    {
      "cell_type": "code",
      "source": [
        "t1 @ t2"
      ],
      "metadata": {
        "colab": {
          "base_uri": "https://localhost:8080/"
        },
        "id": "p8R9ESOZu0ad",
        "outputId": "4be9006d-e3f6-4025-81f8-cec2a07a6bc1"
      },
      "execution_count": 43,
      "outputs": [
        {
          "output_type": "execute_result",
          "data": {
            "text/plain": [
              "tensor([[0.6153, 0.2579, 0.4226],\n",
              "        [0.8521, 0.3628, 0.5668],\n",
              "        [0.6223, 0.2686, 0.4021]])"
            ]
          },
          "metadata": {},
          "execution_count": 43
        }
      ]
    },
    {
      "cell_type": "code",
      "source": [
        "# Shapes for matrix multiplicaton\n",
        "tensor_A = torch.tensor([[1,2],\n",
        "                        [3,4],\n",
        "                        [5,6],\n",
        "                         [7,8]])\n",
        "tensor_B = torch.tensor([[7,10],\n",
        "                        [8,11],\n",
        "                        [9,12]])\n",
        "# tensor_A @ tensor_B gives error different dims\n",
        "\n",
        "tensor_B = tensor_B.T\n",
        "print(f\"Tensor B: {tensor_B}\")\n",
        "res = tensor_A @ tensor_B\n",
        "res.shape\n",
        "torch.matmul(tensor_A, tensor_B)"
      ],
      "metadata": {
        "colab": {
          "base_uri": "https://localhost:8080/"
        },
        "id": "EtEfgLaEvs2t",
        "outputId": "a9d947aa-c395-4e17-a35a-a727f37f1fc5"
      },
      "execution_count": 44,
      "outputs": [
        {
          "output_type": "stream",
          "name": "stdout",
          "text": [
            "Tensor B: tensor([[ 7,  8,  9],\n",
            "        [10, 11, 12]])\n"
          ]
        },
        {
          "output_type": "execute_result",
          "data": {
            "text/plain": [
              "tensor([[ 27,  30,  33],\n",
              "        [ 61,  68,  75],\n",
              "        [ 95, 106, 117],\n",
              "        [129, 144, 159]])"
            ]
          },
          "metadata": {},
          "execution_count": 44
        }
      ]
    },
    {
      "cell_type": "code",
      "source": [
        "# to fix dimensions issue of inner dims not matching we can use\n",
        "# transpose which switches columns and rows of a matrix like above"
      ],
      "metadata": {
        "id": "8dkeriUTwSV2"
      },
      "execution_count": 45,
      "outputs": []
    },
    {
      "cell_type": "code",
      "source": [
        "torch.mm(tensor_A, tensor_B)"
      ],
      "metadata": {
        "colab": {
          "base_uri": "https://localhost:8080/"
        },
        "id": "m90enRm9xs9z",
        "outputId": "0ac325f7-e3be-4385-9241-c2629f1cc697"
      },
      "execution_count": 46,
      "outputs": [
        {
          "output_type": "execute_result",
          "data": {
            "text/plain": [
              "tensor([[ 27,  30,  33],\n",
              "        [ 61,  68,  75],\n",
              "        [ 95, 106, 117],\n",
              "        [129, 144, 159]])"
            ]
          },
          "metadata": {},
          "execution_count": 46
        }
      ]
    },
    {
      "cell_type": "code",
      "source": [
        "# Finding the min, max, mea, and sum etc (Tensor aggregation)\n",
        "x = torch.arange(0, 100, 10)\n",
        "x, x.dtype"
      ],
      "metadata": {
        "colab": {
          "base_uri": "https://localhost:8080/"
        },
        "id": "_91kBJ8025y_",
        "outputId": "7756190e-f6ce-4116-da35-e81c06afc31e"
      },
      "execution_count": 67,
      "outputs": [
        {
          "output_type": "execute_result",
          "data": {
            "text/plain": [
              "(tensor([ 0, 10, 20, 30, 40, 50, 60, 70, 80, 90]), torch.int64)"
            ]
          },
          "metadata": {},
          "execution_count": 67
        }
      ]
    },
    {
      "cell_type": "code",
      "source": [
        "torch.min(x), x.min()"
      ],
      "metadata": {
        "colab": {
          "base_uri": "https://localhost:8080/"
        },
        "id": "IoUHO2TV6B2V",
        "outputId": "acfb731a-de67-4a19-e180-d75c259be972"
      },
      "execution_count": 48,
      "outputs": [
        {
          "output_type": "execute_result",
          "data": {
            "text/plain": [
              "(tensor(0), tensor(0))"
            ]
          },
          "metadata": {},
          "execution_count": 48
        }
      ]
    },
    {
      "cell_type": "code",
      "source": [
        "torch.max(x), x.max()"
      ],
      "metadata": {
        "colab": {
          "base_uri": "https://localhost:8080/"
        },
        "id": "vFPdPXPp6GVf",
        "outputId": "614592f3-7b54-49e4-8883-900d0d84e72b"
      },
      "execution_count": 49,
      "outputs": [
        {
          "output_type": "execute_result",
          "data": {
            "text/plain": [
              "(tensor(90), tensor(90))"
            ]
          },
          "metadata": {},
          "execution_count": 49
        }
      ]
    },
    {
      "cell_type": "code",
      "source": [
        "torch.mean(x, dtype=torch.float32)"
      ],
      "metadata": {
        "colab": {
          "base_uri": "https://localhost:8080/"
        },
        "id": "plNzXeZl6IqW",
        "outputId": "7276d4db-ddf6-4b3c-b2d5-e5a873b6e634"
      },
      "execution_count": 50,
      "outputs": [
        {
          "output_type": "execute_result",
          "data": {
            "text/plain": [
              "tensor(45.)"
            ]
          },
          "metadata": {},
          "execution_count": 50
        }
      ]
    },
    {
      "cell_type": "code",
      "source": [
        "# torch mean doesnt work on int64 needs a float\n",
        "# int64 is long\n",
        "# make float or complex"
      ],
      "metadata": {
        "id": "5eK2FZOF6pwq"
      },
      "execution_count": 51,
      "outputs": []
    },
    {
      "cell_type": "code",
      "source": [
        "# Biggest issues is shape inner in matrix mult and wrong data types"
      ],
      "metadata": {
        "id": "Sk7Y5Rep78Dk"
      },
      "execution_count": 52,
      "outputs": []
    },
    {
      "cell_type": "code",
      "source": [
        "torch.sum(x), x.sum()"
      ],
      "metadata": {
        "colab": {
          "base_uri": "https://localhost:8080/"
        },
        "id": "NWDDbFNL7_kX",
        "outputId": "3e8494c8-9fc9-4f20-bec6-abe4923316fa"
      },
      "execution_count": 53,
      "outputs": [
        {
          "output_type": "execute_result",
          "data": {
            "text/plain": [
              "(tensor(450), tensor(450))"
            ]
          },
          "metadata": {},
          "execution_count": 53
        }
      ]
    },
    {
      "cell_type": "code",
      "source": [
        "maxindex = torch.argmax(x)\n",
        "maxindex\n",
        "minindex = torch.argmin(x)\n",
        "print(f\"The min index is at: {minindex}\")\n",
        "print(f\"The max index is at: {maxindex}\")"
      ],
      "metadata": {
        "colab": {
          "base_uri": "https://localhost:8080/"
        },
        "id": "UQzCVoP88IpJ",
        "outputId": "be2411d6-7380-486f-f1f3-95c321bd49d6"
      },
      "execution_count": 54,
      "outputs": [
        {
          "output_type": "stream",
          "name": "stdout",
          "text": [
            "The min index is at: 0\n",
            "The max index is at: 9\n"
          ]
        }
      ]
    },
    {
      "cell_type": "code",
      "source": [
        "x[maxindex]"
      ],
      "metadata": {
        "colab": {
          "base_uri": "https://localhost:8080/"
        },
        "id": "Q01-Ixiy0rc2",
        "outputId": "e9cc5db9-484b-4185-a2c2-bc3095e23cd5"
      },
      "execution_count": 55,
      "outputs": [
        {
          "output_type": "execute_result",
          "data": {
            "text/plain": [
              "tensor(90)"
            ]
          },
          "metadata": {},
          "execution_count": 55
        }
      ]
    },
    {
      "cell_type": "code",
      "source": [
        "## Reshaping stacking squeezing and unsqueezing tensors\n",
        "\n",
        "'''Reshaping - reshapes an input tensor to a defined shape\n",
        "* View - Return a view of an input tensor of certain shape but keep the same memory as the original tensor\n",
        "* Stacking - combine multiple tensors on top of each other (vstack) or side by side (hstack)\n",
        "* Squeesze - removes all 1 dimensions from a tensor\n",
        "* Unsqueeze - add a '1' dimension to a target sensor\n",
        "* Permute - Return a view of the input with dimensions permuted (swapped) in a certain way'''"
      ],
      "metadata": {
        "colab": {
          "base_uri": "https://localhost:8080/",
          "height": 105
        },
        "id": "1jA9YCnZ-Dzt",
        "outputId": "3a31dfc3-20c3-4766-bad2-4914e137e903"
      },
      "execution_count": 56,
      "outputs": [
        {
          "output_type": "execute_result",
          "data": {
            "text/plain": [
              "\"Reshaping - reshapes an input tensor to a defined shape\\n* View - Return a view of an input tensor of certain shape but keep the same memory as the original tensor\\n* Stacking - combine multiple tensors on top of each other (vstack) or side by side (hstack)\\n* Squeesze - removes all 1 dimensions from a tensor\\n* Unsqueeze - add a '1' dimension to a target sensor\\n* Permute - Return a view of the input with dimensions permuted (swapped) in a certain way\""
            ],
            "application/vnd.google.colaboratory.intrinsic+json": {
              "type": "string"
            }
          },
          "metadata": {},
          "execution_count": 56
        }
      ]
    },
    {
      "cell_type": "code",
      "source": [
        "import torch\n",
        "x = torch.arange(1., 10.)\n",
        "x, x.shape, x.dtype"
      ],
      "metadata": {
        "colab": {
          "base_uri": "https://localhost:8080/"
        },
        "id": "M-38Jmxk-smV",
        "outputId": "4fc5bbe9-f6db-4271-9895-76d5122e3285"
      },
      "execution_count": 57,
      "outputs": [
        {
          "output_type": "execute_result",
          "data": {
            "text/plain": [
              "(tensor([1., 2., 3., 4., 5., 6., 7., 8., 9.]), torch.Size([9]), torch.float32)"
            ]
          },
          "metadata": {},
          "execution_count": 57
        }
      ]
    },
    {
      "cell_type": "code",
      "source": [
        "torch.rand(2,9)"
      ],
      "metadata": {
        "colab": {
          "base_uri": "https://localhost:8080/"
        },
        "id": "chbDJ6_p--7y",
        "outputId": "ad8b9c34-6343-4e47-ac3f-935c2f4fd8e4"
      },
      "execution_count": 58,
      "outputs": [
        {
          "output_type": "execute_result",
          "data": {
            "text/plain": [
              "tensor([[0.0479, 0.1806, 0.0371, 0.3058, 0.4442, 0.9545, 0.8153, 0.6240, 0.0062],\n",
              "        [0.7166, 0.3775, 0.0992, 0.7692, 0.5021, 0.8602, 0.7330, 0.9087, 0.5785]])"
            ]
          },
          "metadata": {},
          "execution_count": 58
        }
      ]
    },
    {
      "cell_type": "code",
      "source": [
        "torch.reshape(x, (1,9)) # adds 1 dimension"
      ],
      "metadata": {
        "colab": {
          "base_uri": "https://localhost:8080/"
        },
        "id": "hH2YxWLQ_pkl",
        "outputId": "369a5832-c047-4a62-f938-638adbc06c62"
      },
      "execution_count": 59,
      "outputs": [
        {
          "output_type": "execute_result",
          "data": {
            "text/plain": [
              "tensor([[1., 2., 3., 4., 5., 6., 7., 8., 9.]])"
            ]
          },
          "metadata": {},
          "execution_count": 59
        }
      ]
    },
    {
      "cell_type": "code",
      "source": [
        "# if we try doing reshape 2,9 then tries to fit the 9 elements we have in the 1 dimensional vector\n",
        "# into 2 rows and 9 columns"
      ],
      "metadata": {
        "id": "bwxF8zzn_uNF"
      },
      "execution_count": 60,
      "outputs": []
    },
    {
      "cell_type": "code",
      "source": [
        "torch.reshape(x, (9,1))"
      ],
      "metadata": {
        "colab": {
          "base_uri": "https://localhost:8080/"
        },
        "id": "ShbI3v5B_3Jh",
        "outputId": "1fd4ea9c-3504-4b85-9624-7b2b8942be25"
      },
      "execution_count": 61,
      "outputs": [
        {
          "output_type": "execute_result",
          "data": {
            "text/plain": [
              "tensor([[1.],\n",
              "        [2.],\n",
              "        [3.],\n",
              "        [4.],\n",
              "        [5.],\n",
              "        [6.],\n",
              "        [7.],\n",
              "        [8.],\n",
              "        [9.]])"
            ]
          },
          "metadata": {},
          "execution_count": 61
        }
      ]
    },
    {
      "cell_type": "code",
      "source": [
        "y = torch.arange(1., 11.) # shape is 10\n",
        "zzz = torch.reshape(y, (5,2)) # so 5*2 = 10 so reshaping allowed\n",
        "zzz"
      ],
      "metadata": {
        "colab": {
          "base_uri": "https://localhost:8080/"
        },
        "id": "SAAFLkqgACmz",
        "outputId": "164e5142-aef2-4b75-9b5c-cd138fe1e676"
      },
      "execution_count": 62,
      "outputs": [
        {
          "output_type": "execute_result",
          "data": {
            "text/plain": [
              "tensor([[ 1.,  2.],\n",
              "        [ 3.,  4.],\n",
              "        [ 5.,  6.],\n",
              "        [ 7.,  8.],\n",
              "        [ 9., 10.]])"
            ]
          },
          "metadata": {},
          "execution_count": 62
        }
      ]
    },
    {
      "cell_type": "code",
      "source": [
        "y"
      ],
      "metadata": {
        "colab": {
          "base_uri": "https://localhost:8080/"
        },
        "id": "ecIsO6un2HS7",
        "outputId": "5af975aa-2a9a-41eb-b895-db988e78f7ab"
      },
      "execution_count": 69,
      "outputs": [
        {
          "output_type": "execute_result",
          "data": {
            "text/plain": [
              "tensor([ 1.,  2.,  3.,  4.,  5.,  6.,  7.,  8.,  9., 10.])"
            ]
          },
          "metadata": {},
          "execution_count": 69
        }
      ]
    },
    {
      "cell_type": "code",
      "source": [
        "zzz.ndim, zzz.shape"
      ],
      "metadata": {
        "colab": {
          "base_uri": "https://localhost:8080/"
        },
        "id": "hzF3ckILCqFc",
        "outputId": "1fcb1ccd-e7ba-4393-9612-78ed3d37eb55"
      },
      "execution_count": 68,
      "outputs": [
        {
          "output_type": "execute_result",
          "data": {
            "text/plain": [
              "(2, torch.Size([5, 2]))"
            ]
          },
          "metadata": {},
          "execution_count": 68
        }
      ]
    },
    {
      "cell_type": "code",
      "source": [
        "x2 = torch.arange(0., 12.)\n",
        "x2, x2.shape"
      ],
      "metadata": {
        "colab": {
          "base_uri": "https://localhost:8080/"
        },
        "id": "QVMT1-E7CsRC",
        "outputId": "ea8c25d1-c7d9-49f7-bc90-65127cd59708"
      },
      "execution_count": 64,
      "outputs": [
        {
          "output_type": "execute_result",
          "data": {
            "text/plain": [
              "(tensor([ 0.,  1.,  2.,  3.,  4.,  5.,  6.,  7.,  8.,  9., 10., 11.]),\n",
              " torch.Size([12]))"
            ]
          },
          "metadata": {},
          "execution_count": 64
        }
      ]
    },
    {
      "cell_type": "code",
      "source": [
        "torch.reshape(x2, (3,4))"
      ],
      "metadata": {
        "colab": {
          "base_uri": "https://localhost:8080/"
        },
        "id": "Y_eGi6zBC2Od",
        "outputId": "f366e8cc-ec15-4e67-ffdb-a0c6cb07c426"
      },
      "execution_count": 65,
      "outputs": [
        {
          "output_type": "execute_result",
          "data": {
            "text/plain": [
              "tensor([[ 0.,  1.,  2.,  3.],\n",
              "        [ 4.,  5.,  6.,  7.],\n",
              "        [ 8.,  9., 10., 11.]])"
            ]
          },
          "metadata": {},
          "execution_count": 65
        }
      ]
    },
    {
      "cell_type": "code",
      "source": [
        "torch.reshape(x2, (4,3))"
      ],
      "metadata": {
        "id": "kouJ7jKFC6Ac",
        "outputId": "a254604b-6fd5-4f7f-c4ae-f690bcf2c042",
        "colab": {
          "base_uri": "https://localhost:8080/"
        }
      },
      "execution_count": 66,
      "outputs": [
        {
          "output_type": "execute_result",
          "data": {
            "text/plain": [
              "tensor([[ 0.,  1.,  2.],\n",
              "        [ 3.,  4.,  5.],\n",
              "        [ 6.,  7.,  8.],\n",
              "        [ 9., 10., 11.]])"
            ]
          },
          "metadata": {},
          "execution_count": 66
        }
      ]
    },
    {
      "cell_type": "code",
      "source": [
        "x3 = torch.arange(1., 10.)\n",
        "x3, x3.shape"
      ],
      "metadata": {
        "colab": {
          "base_uri": "https://localhost:8080/"
        },
        "id": "E1f4Raqa2Q4e",
        "outputId": "443b7d4b-d5f3-4c8b-b306-1145181ce3b9"
      },
      "execution_count": 71,
      "outputs": [
        {
          "output_type": "execute_result",
          "data": {
            "text/plain": [
              "(tensor([1., 2., 3., 4., 5., 6., 7., 8., 9.]), torch.Size([9]))"
            ]
          },
          "metadata": {},
          "execution_count": 71
        }
      ]
    },
    {
      "cell_type": "code",
      "source": [
        "z = x3.view(1,9) # view shares memory with original tensor (z same memory as x)\n",
        "z, z.shape"
      ],
      "metadata": {
        "id": "swIIyCLUC-ZM",
        "colab": {
          "base_uri": "https://localhost:8080/"
        },
        "outputId": "71e961c4-26b3-45d4-f2f3-cd15581ba300"
      },
      "execution_count": 83,
      "outputs": [
        {
          "output_type": "execute_result",
          "data": {
            "text/plain": [
              "(tensor([[1., 2., 3., 4., 5., 6., 7., 8., 9.]]), torch.Size([1, 9]))"
            ]
          },
          "metadata": {},
          "execution_count": 83
        }
      ]
    },
    {
      "cell_type": "code",
      "source": [
        "# the view here will make z a 2d tensor\n",
        "x, z"
      ],
      "metadata": {
        "colab": {
          "base_uri": "https://localhost:8080/"
        },
        "id": "TYHhl2rz3m3z",
        "outputId": "c1cb6bae-dede-43e5-e213-2d6cd5e7ff63"
      },
      "execution_count": 86,
      "outputs": [
        {
          "output_type": "execute_result",
          "data": {
            "text/plain": [
              "(tensor([ 0, 10, 20, 30, 40, 50, 60, 70, 80, 90]),\n",
              " tensor([[1., 2., 3., 4., 5., 6., 7., 8., 9.]]))"
            ]
          },
          "metadata": {},
          "execution_count": 86
        }
      ]
    },
    {
      "cell_type": "code",
      "source": [
        "# Changing z (view of x) will change x\n",
        "z[0] = 2\n",
        "z"
      ],
      "metadata": {
        "colab": {
          "base_uri": "https://localhost:8080/"
        },
        "id": "1CgEkH4d2asD",
        "outputId": "846d948e-d803-46c1-9bd3-7deaf37e692a"
      },
      "execution_count": 73,
      "outputs": [
        {
          "output_type": "execute_result",
          "data": {
            "text/plain": [
              "tensor([[2., 2., 2., 2., 2., 2., 2., 2., 2.]])"
            ]
          },
          "metadata": {},
          "execution_count": 73
        }
      ]
    },
    {
      "cell_type": "code",
      "source": [
        "x3"
      ],
      "metadata": {
        "colab": {
          "base_uri": "https://localhost:8080/"
        },
        "id": "GXuBjATE2tLi",
        "outputId": "77f709eb-1b62-43cb-e009-3ecdb2d72ff5"
      },
      "execution_count": 78,
      "outputs": [
        {
          "output_type": "execute_result",
          "data": {
            "text/plain": [
              "tensor([2., 2., 2., 2., 2., 2., 2., 2., 2.])"
            ]
          },
          "metadata": {},
          "execution_count": 78
        }
      ]
    },
    {
      "cell_type": "code",
      "source": [
        "x3 = torch.arange(1., 10.)\n",
        "x3, x3.shape, x3.dtype"
      ],
      "metadata": {
        "colab": {
          "base_uri": "https://localhost:8080/"
        },
        "id": "FBRypOuv210T",
        "outputId": "e8a49065-12ae-4ebf-deb2-524bd8a76fc3"
      },
      "execution_count": 82,
      "outputs": [
        {
          "output_type": "execute_result",
          "data": {
            "text/plain": [
              "(tensor([1., 2., 3., 4., 5., 6., 7., 8., 9.]), torch.Size([9]), torch.float32)"
            ]
          },
          "metadata": {},
          "execution_count": 82
        }
      ]
    },
    {
      "cell_type": "code",
      "source": [
        "z[: , 0] = 2 # select all elements along that dimension, all rows\n",
        "z[0][1] = 3\n",
        "z, x3"
      ],
      "metadata": {
        "colab": {
          "base_uri": "https://localhost:8080/"
        },
        "id": "_aHMX_op29zG",
        "outputId": "9c3b0424-bb4a-4551-db51-238081da62f3"
      },
      "execution_count": 91,
      "outputs": [
        {
          "output_type": "execute_result",
          "data": {
            "text/plain": [
              "(tensor([[2., 3., 3., 4., 5., 6., 7., 8., 9.]]),\n",
              " tensor([2., 3., 3., 4., 5., 6., 7., 8., 9.]))"
            ]
          },
          "metadata": {},
          "execution_count": 91
        }
      ]
    },
    {
      "cell_type": "code",
      "source": [
        "# Stack tensors on top of each other\n",
        "x_stacked1 = torch.stack([x,x,x,x,x], dim=1)\n",
        "x_stacked0 = torch.stack([x,x,x,x,x], dim=0)\n",
        "x_stacked1, x_stacked0\n",
        "# only 2 dimensions so doesnt work to stack at dim = 2 which is third\n",
        "# when stacking at dimension 0, adds more of the same tensor x\n",
        "# when stacking at dimension 1, inside of tensor x then stack the same number the amount of times specified\n"
      ],
      "metadata": {
        "colab": {
          "base_uri": "https://localhost:8080/"
        },
        "id": "mp0EOyyj4XoH",
        "outputId": "cfccb705-4ebc-4bbd-8708-5e7ea0982641"
      },
      "execution_count": 95,
      "outputs": [
        {
          "output_type": "execute_result",
          "data": {
            "text/plain": [
              "(tensor([[ 0,  0,  0,  0,  0],\n",
              "         [10, 10, 10, 10, 10],\n",
              "         [20, 20, 20, 20, 20],\n",
              "         [30, 30, 30, 30, 30],\n",
              "         [40, 40, 40, 40, 40],\n",
              "         [50, 50, 50, 50, 50],\n",
              "         [60, 60, 60, 60, 60],\n",
              "         [70, 70, 70, 70, 70],\n",
              "         [80, 80, 80, 80, 80],\n",
              "         [90, 90, 90, 90, 90]]),\n",
              " tensor([[ 0, 10, 20, 30, 40, 50, 60, 70, 80, 90],\n",
              "         [ 0, 10, 20, 30, 40, 50, 60, 70, 80, 90],\n",
              "         [ 0, 10, 20, 30, 40, 50, 60, 70, 80, 90],\n",
              "         [ 0, 10, 20, 30, 40, 50, 60, 70, 80, 90],\n",
              "         [ 0, 10, 20, 30, 40, 50, 60, 70, 80, 90]]))"
            ]
          },
          "metadata": {},
          "execution_count": 95
        }
      ]
    },
    {
      "cell_type": "code",
      "source": [
        "print(torch.squeeze(x)) # removes dimensions that are 1 with squeeze\n",
        "print(torch.unsqueeze(x, dim=0)) # undoes what it squeezed\n"
      ],
      "metadata": {
        "colab": {
          "base_uri": "https://localhost:8080/"
        },
        "id": "5eVsCF5O8hcc",
        "outputId": "63b4a6b8-1ada-446e-e0be-33bff16876e6"
      },
      "execution_count": 102,
      "outputs": [
        {
          "output_type": "stream",
          "name": "stdout",
          "text": [
            "tensor([ 0, 10, 20, 30, 40, 50, 60, 70, 80, 90])\n",
            "tensor([[ 0, 10, 20, 30, 40, 50, 60, 70, 80, 90]])\n"
          ]
        }
      ]
    },
    {
      "cell_type": "code",
      "source": [
        "ex = torch.zeros(2,1,2,1)\n",
        "print(ex, ex.shape) #2 arrays 1 array 2 arrays 1el\n",
        "exsqu = torch.squeeze(ex)\n",
        "print(exsqu,exsqu.shape)"
      ],
      "metadata": {
        "colab": {
          "base_uri": "https://localhost:8080/"
        },
        "id": "lMy8PbUd-5P2",
        "outputId": "b6471146-4380-4fc9-a38b-52c42e0edffa"
      },
      "execution_count": 119,
      "outputs": [
        {
          "output_type": "stream",
          "name": "stdout",
          "text": [
            "tensor([[[[0.],\n",
            "          [0.]]],\n",
            "\n",
            "\n",
            "        [[[0.],\n",
            "          [0.]]]]) torch.Size([2, 1, 2, 1])\n",
            "tensor([[0., 0.],\n",
            "        [0., 0.]]) torch.Size([2, 2])\n"
          ]
        }
      ]
    },
    {
      "cell_type": "code",
      "source": [
        "exunsq = torch.unsqueeze(exsqu, dim=1)\n",
        "print(exunsq, exunsq.shape)\n",
        "exunsqq = torch.unsqueeze(exunsq, dim=3)\n",
        "print(exunsqq, exunsqq.shape)"
      ],
      "metadata": {
        "colab": {
          "base_uri": "https://localhost:8080/"
        },
        "id": "ey2moNCRA4PL",
        "outputId": "6ad20992-c7e2-41e7-81c9-6b99780e8b82"
      },
      "execution_count": 120,
      "outputs": [
        {
          "output_type": "stream",
          "name": "stdout",
          "text": [
            "tensor([[[0., 0.]],\n",
            "\n",
            "        [[0., 0.]]]) torch.Size([2, 1, 2])\n",
            "tensor([[[[0.],\n",
            "          [0.]]],\n",
            "\n",
            "\n",
            "        [[[0.],\n",
            "          [0.]]]]) torch.Size([2, 1, 2, 1])\n"
          ]
        }
      ]
    },
    {
      "cell_type": "code",
      "source": [
        "# torch.permute returns original tensor with dimensions permuted (changed)\n",
        "x_orig = torch.rand(size=(224,224,3))\n",
        "print(f\"The original is {x_orig.shape}\")\n",
        "x_permuted = x_orig.permute(2,0,1)\n",
        "print(f\"The permuted is {x_permuted.shape}\")\n"
      ],
      "metadata": {
        "colab": {
          "base_uri": "https://localhost:8080/"
        },
        "id": "gcPFFZCkDpY9",
        "outputId": "60dbef6c-70f8-450a-d44d-b8f27327c15e"
      },
      "execution_count": 121,
      "outputs": [
        {
          "output_type": "stream",
          "name": "stdout",
          "text": [
            "The original is torch.Size([224, 224, 3])\n",
            "The permuted is torch.Size([3, 224, 224])\n"
          ]
        }
      ]
    },
    {
      "cell_type": "code",
      "source": [
        "# permuted tensor shares same memory with original\n",
        "print(x_permuted)\n",
        "x_permuted[0,0,0]"
      ],
      "metadata": {
        "colab": {
          "base_uri": "https://localhost:8080/"
        },
        "id": "eW2h7iYVFeWr",
        "outputId": "2c2b1844-506d-4654-d582-9d99f4356366"
      },
      "execution_count": 134,
      "outputs": [
        {
          "output_type": "stream",
          "name": "stdout",
          "text": [
            "tensor([[[0.9100, 0.5619, 0.8914,  ..., 0.3276, 0.3366, 0.6090],\n",
            "         [0.0291, 0.9002, 0.6074,  ..., 0.6286, 0.7274, 0.1986],\n",
            "         [0.3329, 0.0441, 0.5455,  ..., 0.9066, 0.6026, 0.9165],\n",
            "         ...,\n",
            "         [0.9979, 0.7850, 0.2716,  ..., 0.7690, 0.7828, 0.2033],\n",
            "         [0.9561, 0.0840, 0.3996,  ..., 0.9060, 0.4212, 0.0691],\n",
            "         [0.4397, 0.1328, 0.8769,  ..., 0.1328, 0.7190, 0.6135]],\n",
            "\n",
            "        [[0.0636, 0.8136, 0.0608,  ..., 0.8791, 0.2029, 0.0396],\n",
            "         [0.2009, 0.8771, 0.6796,  ..., 0.3512, 0.8454, 0.3165],\n",
            "         [0.3628, 0.1842, 0.2531,  ..., 0.4597, 0.4544, 0.6642],\n",
            "         ...,\n",
            "         [0.8696, 0.8007, 0.2799,  ..., 0.0734, 0.6519, 0.4633],\n",
            "         [0.1120, 0.8976, 0.2954,  ..., 0.6660, 0.8688, 0.9732],\n",
            "         [0.5307, 0.5458, 0.4996,  ..., 0.2480, 0.5894, 0.5939]],\n",
            "\n",
            "        [[0.2929, 0.3082, 0.4491,  ..., 0.6413, 0.3125, 0.6284],\n",
            "         [0.0249, 0.3584, 0.9677,  ..., 0.3727, 0.9901, 0.8377],\n",
            "         [0.2066, 0.6941, 0.4135,  ..., 0.9316, 0.5859, 0.3679],\n",
            "         ...,\n",
            "         [0.4258, 0.1314, 0.7306,  ..., 0.3968, 0.1086, 0.5995],\n",
            "         [0.8220, 0.0861, 0.1375,  ..., 0.0096, 0.3670, 0.3587],\n",
            "         [0.4800, 0.7556, 0.3109,  ..., 0.2252, 0.3189, 0.8492]]])\n"
          ]
        },
        {
          "output_type": "execute_result",
          "data": {
            "text/plain": [
              "tensor(0.9100)"
            ]
          },
          "metadata": {},
          "execution_count": 134
        }
      ]
    },
    {
      "cell_type": "code",
      "source": [
        "x_permuted[0][0][0] = 10\n",
        "x_orig[0][0][0]"
      ],
      "metadata": {
        "colab": {
          "base_uri": "https://localhost:8080/"
        },
        "id": "kBnh9eFRHGxc",
        "outputId": "1faf96ed-e9c7-490b-cff1-9bc79cbd4e92"
      },
      "execution_count": 135,
      "outputs": [
        {
          "output_type": "execute_result",
          "data": {
            "text/plain": [
              "tensor(10.)"
            ]
          },
          "metadata": {},
          "execution_count": 135
        }
      ]
    },
    {
      "cell_type": "code",
      "source": [
        "# Indexing selecting data from tensors similar to indexing with numpy\n",
        "import torch\n",
        "import numpy as np\n",
        "x = torch.arange(1,10).reshape(1,3,3)\n",
        "x\n",
        "x[0], x[0][1], x[0][1][2]"
      ],
      "metadata": {
        "colab": {
          "base_uri": "https://localhost:8080/"
        },
        "id": "iWCsWhPaHM4e",
        "outputId": "cbd6921e-2b76-4633-81ba-9653ab914872"
      },
      "execution_count": 2,
      "outputs": [
        {
          "output_type": "execute_result",
          "data": {
            "text/plain": [
              "(tensor([[1, 2, 3],\n",
              "         [4, 5, 6],\n",
              "         [7, 8, 9]]),\n",
              " tensor([4, 5, 6]),\n",
              " tensor(6))"
            ]
          },
          "metadata": {},
          "execution_count": 2
        }
      ]
    },
    {
      "cell_type": "code",
      "source": [
        "x[:, 1, 1]"
      ],
      "metadata": {
        "colab": {
          "base_uri": "https://localhost:8080/"
        },
        "id": "hnQagfPXILlT",
        "outputId": "ea7fffd5-b2fc-49eb-d2d2-99092befcd93"
      },
      "execution_count": 3,
      "outputs": [
        {
          "output_type": "execute_result",
          "data": {
            "text/plain": [
              "tensor([5])"
            ]
          },
          "metadata": {},
          "execution_count": 3
        }
      ]
    },
    {
      "cell_type": "code",
      "source": [
        "# Numpy popular scientific numerical computing library\n",
        "# Numpy array to tensor\n",
        "array = np.arange(1, 8)\n",
        "print(array, type(array), array.dtype)\n",
        "tensorr = torch.from_numpy(array)\n",
        "print(tensor, tensor.dtype)\n",
        "# The default dtype for numpy is float 64 while for tensor its float 32"
      ],
      "metadata": {
        "colab": {
          "base_uri": "https://localhost:8080/"
        },
        "id": "qIl4seV9Jzqe",
        "outputId": "157f1fa3-5f11-4885-aea0-b0a47aea0760"
      },
      "execution_count": 19,
      "outputs": [
        {
          "output_type": "stream",
          "name": "stdout",
          "text": [
            "[1 2 3 4 5 6 7] <class 'numpy.ndarray'> int64\n",
            "tensor([1, 2, 3, 4, 5, 6, 7]) torch.int64\n"
          ]
        }
      ]
    },
    {
      "cell_type": "code",
      "source": [
        "tensorrr = torch.from_numpy(array).type(torch.float32)\n",
        "tensorrr.dtype"
      ],
      "metadata": {
        "colab": {
          "base_uri": "https://localhost:8080/"
        },
        "id": "kS6OKuqFNwSN",
        "outputId": "af23a4d6-6d5a-442c-8329-b0c1f732e8ba"
      },
      "execution_count": 20,
      "outputs": [
        {
          "output_type": "execute_result",
          "data": {
            "text/plain": [
              "torch.float32"
            ]
          },
          "metadata": {},
          "execution_count": 20
        }
      ]
    },
    {
      "cell_type": "code",
      "source": [
        "# when converting from numpy -> pytorch default numpy type int64 or float 64 is used by pytorch unless specified"
      ],
      "metadata": {
        "id": "gzrPiZJMOYIG"
      },
      "execution_count": 21,
      "outputs": []
    },
    {
      "cell_type": "code",
      "source": [
        "array\n",
        "array[0] = 9\n",
        "array, tensorrr\n",
        "# tensor = torch.from_numpy(array) means the new tensor doesnt change if original np array changes"
      ],
      "metadata": {
        "colab": {
          "base_uri": "https://localhost:8080/"
        },
        "id": "RcZWe-FUOhjW",
        "outputId": "9d8667bf-7ffb-4a1f-8dcb-1211cbd2de29"
      },
      "execution_count": 26,
      "outputs": [
        {
          "output_type": "execute_result",
          "data": {
            "text/plain": [
              "(array([9, 2, 3, 4, 5, 6, 7]), tensor([1., 2., 3., 4., 5., 6., 7.]))"
            ]
          },
          "metadata": {},
          "execution_count": 26
        }
      ]
    },
    {
      "cell_type": "code",
      "source": [
        "# Tensor to numpy\n",
        "tensor = torch.ones(8)\n",
        "numpy_array = tensor.numpy()\n",
        "tensor, numpy_array, tensor.dtype, numpy_array.dtype\n",
        "# Same thing going from tensors to numpy, now numpy array will have default value of tensors float 32"
      ],
      "metadata": {
        "colab": {
          "base_uri": "https://localhost:8080/"
        },
        "id": "EmIPUPV7Pl8y",
        "outputId": "b5d6a6f8-e617-4ab5-a57c-e8f2263b4854"
      },
      "execution_count": 27,
      "outputs": [
        {
          "output_type": "execute_result",
          "data": {
            "text/plain": [
              "(tensor([1., 1., 1., 1., 1., 1., 1., 1.]),\n",
              " array([1., 1., 1., 1., 1., 1., 1., 1.], dtype=float32),\n",
              " torch.float32,\n",
              " dtype('float32'))"
            ]
          },
          "metadata": {},
          "execution_count": 27
        }
      ]
    },
    {
      "cell_type": "code",
      "source": [
        "tensor = tensor + 1\n",
        "tensor, numpy_array"
      ],
      "metadata": {
        "colab": {
          "base_uri": "https://localhost:8080/"
        },
        "id": "5VFBbjOqQCaw",
        "outputId": "10b8b130-0793-4052-8554-3fb0b702811a"
      },
      "execution_count": 28,
      "outputs": [
        {
          "output_type": "execute_result",
          "data": {
            "text/plain": [
              "(tensor([2., 2., 2., 2., 2., 2., 2., 2.]),\n",
              " array([1., 1., 1., 1., 1., 1., 1., 1.], dtype=float32))"
            ]
          },
          "metadata": {},
          "execution_count": 28
        }
      ]
    },
    {
      "cell_type": "code",
      "source": [
        "# Again independent of chanegs when you change the tensor the new array wont be changed as well"
      ],
      "metadata": {
        "id": "o_IwruV7QEVE"
      },
      "execution_count": null,
      "outputs": []
    },
    {
      "cell_type": "code",
      "source": [
        "## Pytorch reproducability (trying to take random out of random)\n",
        "\n",
        "# How a nn learns, start with random numbers, tensor operations, update numbers to try and make them\n",
        "# more accurate and better. Data -> again -> again -> again...\n",
        "# to reduce the randomness in nns and pytorch comes to concept of random seed\n",
        "# seed flavors the randomness\n",
        "\n",
        "random_tensor_A = torch.rand(3,4)\n",
        "random_tensor_B = torch.rand(3,4)\n",
        "print(random_tensor_A, random_tensor_B)\n",
        "print(random_tensor_A == random_tensor_B)"
      ],
      "metadata": {
        "colab": {
          "base_uri": "https://localhost:8080/"
        },
        "id": "0erorw2QQHtX",
        "outputId": "23a2ee0b-804b-46ea-c679-38aa99258020"
      },
      "execution_count": 29,
      "outputs": [
        {
          "output_type": "stream",
          "name": "stdout",
          "text": [
            "tensor([[0.4337, 0.3426, 0.5724, 0.2009],\n",
            "        [0.2711, 0.1893, 0.0346, 0.7249],\n",
            "        [0.9483, 0.5681, 0.3406, 0.6477]]) tensor([[0.8481, 0.9255, 0.7392, 0.4313],\n",
            "        [0.4680, 0.0544, 0.8920, 0.5487],\n",
            "        [0.8328, 0.1313, 0.0245, 0.2101]])\n",
            "tensor([[False, False, False, False],\n",
            "        [False, False, False, False],\n",
            "        [False, False, False, False]])\n"
          ]
        }
      ]
    },
    {
      "cell_type": "code",
      "source": [
        "import torch\n",
        "RANDOM_SEED = 42\n",
        "torch.manual_seed(RANDOM_SEED) # manual seed needs to be called with specified random seed before\n",
        "# trying to make a random tensor to get same results in both random tensors (notr rlly random flavored)\n",
        "random_tensor_C = torch.rand(3,4)\n",
        "torch.manual_seed(RANDOM_SEED) # same thing again\n",
        "random_tensor_D = torch.rand(3,4)\n",
        "print(random_tensor_C, random_tensor_D)\n",
        "print(random_tensor_C == random_tensor_D)"
      ],
      "metadata": {
        "colab": {
          "base_uri": "https://localhost:8080/"
        },
        "id": "cbL1Y1z5RpRA",
        "outputId": "56aa99b6-456c-4b60-fc42-762d39e3f912"
      },
      "execution_count": 32,
      "outputs": [
        {
          "output_type": "stream",
          "name": "stdout",
          "text": [
            "tensor([[0.8823, 0.9150, 0.3829, 0.9593],\n",
            "        [0.3904, 0.6009, 0.2566, 0.7936],\n",
            "        [0.9408, 0.1332, 0.9346, 0.5936]]) tensor([[0.8823, 0.9150, 0.3829, 0.9593],\n",
            "        [0.3904, 0.6009, 0.2566, 0.7936],\n",
            "        [0.9408, 0.1332, 0.9346, 0.5936]])\n",
            "tensor([[True, True, True, True],\n",
            "        [True, True, True, True],\n",
            "        [True, True, True, True]])\n"
          ]
        }
      ]
    },
    {
      "cell_type": "code",
      "source": [
        "device = \"cuda\" if torch.cuda.is_available() else \"cpu\"\n",
        "device"
      ],
      "metadata": {
        "colab": {
          "base_uri": "https://localhost:8080/",
          "height": 35
        },
        "id": "IxSGNLwzZ9Tl",
        "outputId": "8326d402-e621-47ba-eec1-da90dfdc3d97"
      },
      "execution_count": 33,
      "outputs": [
        {
          "output_type": "execute_result",
          "data": {
            "text/plain": [
              "'cpu'"
            ],
            "application/vnd.google.colaboratory.intrinsic+json": {
              "type": "string"
            }
          },
          "metadata": {},
          "execution_count": 33
        }
      ]
    },
    {
      "cell_type": "code",
      "source": [
        "torch.cuda.device_count()"
      ],
      "metadata": {
        "colab": {
          "base_uri": "https://localhost:8080/"
        },
        "id": "jx5ddOTnaFNU",
        "outputId": "57a4c47a-4266-4a47-fc06-fa80b2df1d53"
      },
      "execution_count": 34,
      "outputs": [
        {
          "output_type": "execute_result",
          "data": {
            "text/plain": [
              "0"
            ]
          },
          "metadata": {},
          "execution_count": 34
        }
      ]
    },
    {
      "cell_type": "code",
      "source": [
        "# putting models and tensors on the gpu (parallel computing multithreaded faster on gpu)\n",
        "# train discover patterns quicker and more effecient with gpus\n",
        "\n",
        "tensor = torch.tensor([1,2,3], device=device)\n",
        "tensor.device\n",
        "\n"
      ],
      "metadata": {
        "colab": {
          "base_uri": "https://localhost:8080/"
        },
        "id": "piRlrxgsahAy",
        "outputId": "2cd6382f-152c-4d61-bfd4-454716b07f3c"
      },
      "execution_count": 38,
      "outputs": [
        {
          "output_type": "execute_result",
          "data": {
            "text/plain": [
              "device(type='cpu')"
            ]
          },
          "metadata": {},
          "execution_count": 38
        }
      ]
    },
    {
      "cell_type": "code",
      "source": [
        "tensor_on_gpu = tensor.to(\"cuda\") # works if gpu is available\n",
        "tensor_on_gpu"
      ],
      "metadata": {
        "id": "NZBU_Ywydh7p"
      },
      "execution_count": null,
      "outputs": []
    },
    {
      "cell_type": "code",
      "source": [
        "# numpy only works on CPU\n",
        "# moving tensors back to cpu if we want to transform it to NumPy\n",
        "tensor_back_on_cpu = tensor_on_gpu.cpu().numpy()\n",
        "tensor_back_on_cpu\n",
        "gputensor = torch.from_numpy(tensor_back_on_cpu)\n",
        "# tensor on gpu remains unchanged since we made a copy of the tensor onto the cpu and made it a numpyarray using .numpy()"
      ],
      "metadata": {
        "id": "EoEWlTNoePR_"
      },
      "execution_count": null,
      "outputs": []
    }
  ]
}